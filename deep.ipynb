{
 "cells": [
  {
   "cell_type": "code",
   "execution_count": 10,
   "metadata": {},
   "outputs": [
    {
     "name": "stdout",
     "output_type": "stream",
     "text": [
      "                              COMMENT_ID  \\\n",
      "171    z13zy52aayqxsx5nr23curipvrretdy35   \n",
      "303  z12cehoxozfgg3nok04cjj05xznbgrlpfjo   \n",
      "314  z123vd4i3laosnv4b04ci3pwunuvytarigs   \n",
      "37     z13zj1grjzqhhxzlj23gdpzaovunwnn0f   \n",
      "92   z12ufn5puwnve3b2k22ntjqogym0fllgb04   \n",
      "\n",
      "                                         AUTHOR                 DATE  \\\n",
      "171                                    JoelR Ch  2014-11-06T19:28:25   \n",
      "303                       Elieo Cardiopulmonary  2014-11-08T15:29:52   \n",
      "314                              Thuan Lai Tran  2014-11-12T05:01:52   \n",
      "37   HamzaMurt | Advanced Warefare | Lets Play!  2014-01-19T17:20:58   \n",
      "92                                      Angek95  2014-11-03T22:28:56   \n",
      "\n",
      "                                               CONTENT  CLASS  \n",
      "171                 http://flipagram.com/f/LUkA1QMrhF﻿      1  \n",
      "303  im sorry for the spam but My name is Jenny. I ...      1  \n",
      "314                      This is getting old.........﻿      0  \n",
      "37   SUB 4 SUB PLEASE LIKE THIS COMMENT I WANT A SU...      1  \n",
      "92                          Check my channel, please!﻿      1  \n"
     ]
    }
   ],
   "source": [
    "import pandas as pd\n",
    "import numpy as np\n",
    "from sklearn.feature_extraction.text import CountVectorizer\n",
    "from sklearn.model_selection import train_test_split\n",
    "from sklearn.naive_bayes import BernoulliNB\n",
    "\n",
    "data = pd.read_csv(\"Youtube01-Psy.csv\")\n",
    "print(data.sample(5))"
   ]
  },
  {
   "cell_type": "code",
   "execution_count": 11,
   "metadata": {},
   "outputs": [
    {
     "name": "stdout",
     "output_type": "stream",
     "text": [
      "                                               CONTENT  CLASS\n",
      "121  how can there be 2.124.821.694 views, when im ...      0\n",
      "141  check men out i put allot of effort into my mu...      1\n",
      "272                            How stupid humanity is﻿      0\n",
      "315  PLEASE SUBSCRIBE ME!!!!!!!!!!!!!!!!!!!!!!!!!!!...      1\n",
      "37   SUB 4 SUB PLEASE LIKE THIS COMMENT I WANT A SU...      1\n"
     ]
    }
   ],
   "source": [
    "data = data[[\"CONTENT\", \"CLASS\"]]\n",
    "print(data.sample(5))"
   ]
  },
  {
   "cell_type": "code",
   "execution_count": 12,
   "metadata": {},
   "outputs": [
    {
     "name": "stdout",
     "output_type": "stream",
     "text": [
      "                                               CONTENT         CLASS\n",
      "167  hey again if you guys wouldnt mind chacking ou...  Spam Comment\n",
      "200  http://www.twitch.tv/tareko100 Follow him on t...  Spam Comment\n",
      "261                               subscribe my chanel﻿  Spam Comment\n",
      "92                          Check my channel, please!﻿  Spam Comment\n",
      "150                            Oppa! Yeah! Best Song!﻿      Not Spam\n"
     ]
    }
   ],
   "source": [
    "data[\"CLASS\"] = data[\"CLASS\"].map({0: \"Not Spam\",\n",
    "                                   1: \"Spam Comment\"})\n",
    "print(data.sample(5))"
   ]
  },
  {
   "cell_type": "code",
   "execution_count": 13,
   "metadata": {},
   "outputs": [
    {
     "name": "stdout",
     "output_type": "stream",
     "text": [
      "0.9857142857142858\n"
     ]
    }
   ],
   "source": [
    "x = np.array(data[\"CONTENT\"])\n",
    "y = np.array(data[\"CLASS\"])\n",
    "\n",
    "cv = CountVectorizer()\n",
    "x = cv.fit_transform(x)\n",
    "xtrain, xtest, ytrain, ytest = train_test_split(x, y, \n",
    "                                                test_size=0.2, \n",
    "                                                random_state=42)\n",
    "\n",
    "model = BernoulliNB()\n",
    "model.fit(xtrain, ytrain)\n",
    "print(model.score(xtest, ytest))"
   ]
  },
  {
   "cell_type": "code",
   "execution_count": 14,
   "metadata": {},
   "outputs": [
    {
     "name": "stdout",
     "output_type": "stream",
     "text": [
      "['Not Spam']\n"
     ]
    }
   ],
   "source": [
    "sample = \"darkweb.in\" \n",
    "data = cv.transform([sample]).toarray()\n",
    "print(model.predict(data)) "
   ]
  },
  {
   "cell_type": "code",
   "execution_count": 15,
   "metadata": {},
   "outputs": [],
   "source": [
    "import pickle"
   ]
  },
  {
   "cell_type": "code",
   "execution_count": 16,
   "metadata": {},
   "outputs": [],
   "source": [
    "with(open('model.pkl','wb'))as files: \n",
    "    pickle.dump(model,files)\n",
    "     \n",
    "     "
   ]
  },
  {
   "cell_type": "code",
   "execution_count": 17,
   "metadata": {},
   "outputs": [],
   "source": [
    "\n",
    "with open('vectorizer.pkl', 'wb') as vectorizer_file:\n",
    "    pickle.dump(cv, vectorizer_file)"
   ]
  }
 ],
 "metadata": {
  "kernelspec": {
   "display_name": "Python 3",
   "language": "python",
   "name": "python3"
  },
  "language_info": {
   "codemirror_mode": {
    "name": "ipython",
    "version": 3
   },
   "file_extension": ".py",
   "mimetype": "text/x-python",
   "name": "python",
   "nbconvert_exporter": "python",
   "pygments_lexer": "ipython3",
   "version": "3.10.2"
  }
 },
 "nbformat": 4,
 "nbformat_minor": 2
}
